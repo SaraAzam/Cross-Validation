{
  "nbformat": 4,
  "nbformat_minor": 0,
  "metadata": {
    "colab": {
      "name": "cross validation",
      "provenance": [],
      "collapsed_sections": []
    },
    "kernelspec": {
      "name": "python3",
      "display_name": "Python 3"
    }
  },
  "cells": [
    {
      "cell_type": "code",
      "metadata": {
        "id": "loW5YIjnllDT"
      },
      "source": [
        "#first import the library\r\n",
        "import pandas as pd\r\n",
        "dataset = pd.read_csv(\"https://archive.ics.uci.edu/ml/machine-learning-databases/iris/iris.data\")\r\n",
        "print(dataset.head()) #it prints 20 rows of data\r\n",
        "#slicing\r\n",
        "X_features_input = dataset.iloc[:, :-1].values #features[rows, columms]\r\n",
        "print(X_features_input)\r\n",
        "y_label_output = dataset.iloc[:, 4].values #labels\r\n",
        "from sklearn.model_selection import train_test_split\r\n",
        "X_train, X_test, y_train, y_test = train_test_split(X_features_input, y_label_output, test_size=0.20, random_state=5)\r\n",
        "#x_train = 80% of our features data(input)\r\n",
        "#x_test = 20% of our features data(input)\r\n",
        "#y_train = 80% of our lable data(output)\r\n",
        "#y_test = 20 % of pur lable data(output)\r\n",
        "#imported the algorithms from library\r\n",
        "from sklearn import tree\r\n",
        "classifier = tree.DecisionTreeClassifier()\r\n",
        "classifier.fit(X_train, y_train) # X_train = features #y_train= lable\r\n",
        "# now we have to take prediction on testing data\r\n",
        "y_pred = classifier.predict(X_test) #here we only pass the features\r\n",
        "from sklearn.metrics import accuracy_score\r\n",
        "print('Accuracy Score: ', accuracy_score(y_pred, y_test)) #y_pred is the output\r\n",
        "from sklearn.model_selection import cross_val_score\r\n",
        "scores = cross_val_score(classifier, X_features_input, y_label_output, scoring='accuracy', cv=3)\r\n",
        "print('Cross Validation')\r\n",
        "print(scores)\r\n",
        "print(\"Accuracy: %0.2f (+/- %0.2f)\" % (scores.mean(), scores.std() * 2))\r\n"
      ],
      "execution_count": null,
      "outputs": []
    }
  ]
}